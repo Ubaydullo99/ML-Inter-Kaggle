{
 "cells": [
  {
   "cell_type": "markdown",
   "id": "ad97e981",
   "metadata": {
    "papermill": {
     "duration": 0.015442,
     "end_time": "2023-07-05T08:45:11.845006",
     "exception": false,
     "start_time": "2023-07-05T08:45:11.829564",
     "status": "completed"
    },
    "tags": []
   },
   "source": [
    "**This notebook is an exercise in the [Intermediate Machine Learning](https://www.kaggle.com/learn/intermediate-machine-learning) course.  You can reference the tutorial at [this link](https://www.kaggle.com/alexisbcook/categorical-variables).**\n",
    "\n",
    "---\n"
   ]
  },
  {
   "cell_type": "markdown",
   "id": "15ca14e3",
   "metadata": {
    "papermill": {
     "duration": 0.014252,
     "end_time": "2023-07-05T08:45:11.874309",
     "exception": false,
     "start_time": "2023-07-05T08:45:11.860057",
     "status": "completed"
    },
    "tags": []
   },
   "source": [
    "By encoding **categorical variables**, you'll obtain your best results thus far!\n",
    "\n",
    "# Setup\n",
    "\n",
    "The questions below will give you feedback on your work. Run the following cell to set up the feedback system."
   ]
  },
  {
   "cell_type": "code",
   "execution_count": 1,
   "id": "e31750ec",
   "metadata": {
    "execution": {
     "iopub.execute_input": "2023-07-05T08:45:11.905474Z",
     "iopub.status.busy": "2023-07-05T08:45:11.904687Z",
     "iopub.status.idle": "2023-07-05T08:45:11.962451Z",
     "shell.execute_reply": "2023-07-05T08:45:11.961266Z"
    },
    "papermill": {
     "duration": 0.07714,
     "end_time": "2023-07-05T08:45:11.965867",
     "exception": false,
     "start_time": "2023-07-05T08:45:11.888727",
     "status": "completed"
    },
    "tags": []
   },
   "outputs": [
    {
     "name": "stdout",
     "output_type": "stream",
     "text": [
      "Setup Complete\n"
     ]
    }
   ],
   "source": [
    "# Set up code checking\n",
    "import os\n",
    "if not os.path.exists(\"../input/train.csv\"):\n",
    "    os.symlink(\"../input/home-data-for-ml-course/train.csv\", \"../input/train.csv\")  \n",
    "    os.symlink(\"../input/home-data-for-ml-course/test.csv\", \"../input/test.csv\") \n",
    "from learntools.core import binder\n",
    "binder.bind(globals())\n",
    "from learntools.ml_intermediate.ex3 import *\n",
    "print(\"Setup Complete\")"
   ]
  },
  {
   "cell_type": "markdown",
   "id": "38b7861e",
   "metadata": {
    "papermill": {
     "duration": 0.014244,
     "end_time": "2023-07-05T08:45:11.994713",
     "exception": false,
     "start_time": "2023-07-05T08:45:11.980469",
     "status": "completed"
    },
    "tags": []
   },
   "source": [
    "In this exercise, you will work with data from the [Housing Prices Competition for Kaggle Learn Users](https://www.kaggle.com/c/home-data-for-ml-course). \n",
    "\n",
    "Run the next code cell without changes to load the training and validation sets in `X_train`, `X_valid`, `y_train`, and `y_valid`.  The test set is loaded in `X_test`."
   ]
  },
  {
   "cell_type": "code",
   "execution_count": 2,
   "id": "35b0da2a",
   "metadata": {
    "execution": {
     "iopub.execute_input": "2023-07-05T08:45:12.026556Z",
     "iopub.status.busy": "2023-07-05T08:45:12.025745Z",
     "iopub.status.idle": "2023-07-05T08:45:13.788234Z",
     "shell.execute_reply": "2023-07-05T08:45:13.787013Z"
    },
    "papermill": {
     "duration": 1.781978,
     "end_time": "2023-07-05T08:45:13.791569",
     "exception": false,
     "start_time": "2023-07-05T08:45:12.009591",
     "status": "completed"
    },
    "tags": []
   },
   "outputs": [],
   "source": [
    "import pandas as pd\n",
    "from sklearn.model_selection import train_test_split\n",
    "\n",
    "# Read the data\n",
    "X = pd.read_csv('../input/train.csv', index_col='Id') \n",
    "X_test = pd.read_csv('../input/test.csv', index_col='Id')\n",
    "\n",
    "# Remove rows with missing target, separate target from predictors\n",
    "X.dropna(axis=0, subset=['SalePrice'], inplace=True)\n",
    "y = X.SalePrice\n",
    "X.drop(['SalePrice'], axis=1, inplace=True)\n",
    "\n",
    "# To keep things simple, we'll drop columns with missing values\n",
    "cols_with_missing = [col for col in X.columns if X[col].isnull().any()] \n",
    "X.drop(cols_with_missing, axis=1, inplace=True)\n",
    "X_test.drop(cols_with_missing, axis=1, inplace=True)\n",
    "\n",
    "# Break off validation set from training data\n",
    "X_train, X_valid, y_train, y_valid = train_test_split(X, y,\n",
    "                                                      train_size=0.8, test_size=0.2,\n",
    "                                                      random_state=0)"
   ]
  },
  {
   "cell_type": "markdown",
   "id": "aaf2b64c",
   "metadata": {
    "papermill": {
     "duration": 0.015507,
     "end_time": "2023-07-05T08:45:13.822662",
     "exception": false,
     "start_time": "2023-07-05T08:45:13.807155",
     "status": "completed"
    },
    "tags": []
   },
   "source": [
    "Use the next code cell to print the first five rows of the data."
   ]
  },
  {
   "cell_type": "code",
   "execution_count": 3,
   "id": "75afb4f0",
   "metadata": {
    "execution": {
     "iopub.execute_input": "2023-07-05T08:45:13.855955Z",
     "iopub.status.busy": "2023-07-05T08:45:13.855254Z",
     "iopub.status.idle": "2023-07-05T08:45:13.892579Z",
     "shell.execute_reply": "2023-07-05T08:45:13.891492Z"
    },
    "papermill": {
     "duration": 0.05745,
     "end_time": "2023-07-05T08:45:13.895292",
     "exception": false,
     "start_time": "2023-07-05T08:45:13.837842",
     "status": "completed"
    },
    "tags": []
   },
   "outputs": [
    {
     "data": {
      "text/html": [
       "<div>\n",
       "<style scoped>\n",
       "    .dataframe tbody tr th:only-of-type {\n",
       "        vertical-align: middle;\n",
       "    }\n",
       "\n",
       "    .dataframe tbody tr th {\n",
       "        vertical-align: top;\n",
       "    }\n",
       "\n",
       "    .dataframe thead th {\n",
       "        text-align: right;\n",
       "    }\n",
       "</style>\n",
       "<table border=\"1\" class=\"dataframe\">\n",
       "  <thead>\n",
       "    <tr style=\"text-align: right;\">\n",
       "      <th></th>\n",
       "      <th>MSSubClass</th>\n",
       "      <th>MSZoning</th>\n",
       "      <th>LotArea</th>\n",
       "      <th>Street</th>\n",
       "      <th>LotShape</th>\n",
       "      <th>LandContour</th>\n",
       "      <th>Utilities</th>\n",
       "      <th>LotConfig</th>\n",
       "      <th>LandSlope</th>\n",
       "      <th>Neighborhood</th>\n",
       "      <th>...</th>\n",
       "      <th>OpenPorchSF</th>\n",
       "      <th>EnclosedPorch</th>\n",
       "      <th>3SsnPorch</th>\n",
       "      <th>ScreenPorch</th>\n",
       "      <th>PoolArea</th>\n",
       "      <th>MiscVal</th>\n",
       "      <th>MoSold</th>\n",
       "      <th>YrSold</th>\n",
       "      <th>SaleType</th>\n",
       "      <th>SaleCondition</th>\n",
       "    </tr>\n",
       "    <tr>\n",
       "      <th>Id</th>\n",
       "      <th></th>\n",
       "      <th></th>\n",
       "      <th></th>\n",
       "      <th></th>\n",
       "      <th></th>\n",
       "      <th></th>\n",
       "      <th></th>\n",
       "      <th></th>\n",
       "      <th></th>\n",
       "      <th></th>\n",
       "      <th></th>\n",
       "      <th></th>\n",
       "      <th></th>\n",
       "      <th></th>\n",
       "      <th></th>\n",
       "      <th></th>\n",
       "      <th></th>\n",
       "      <th></th>\n",
       "      <th></th>\n",
       "      <th></th>\n",
       "      <th></th>\n",
       "    </tr>\n",
       "  </thead>\n",
       "  <tbody>\n",
       "    <tr>\n",
       "      <th>619</th>\n",
       "      <td>20</td>\n",
       "      <td>RL</td>\n",
       "      <td>11694</td>\n",
       "      <td>Pave</td>\n",
       "      <td>Reg</td>\n",
       "      <td>Lvl</td>\n",
       "      <td>AllPub</td>\n",
       "      <td>Inside</td>\n",
       "      <td>Gtl</td>\n",
       "      <td>NridgHt</td>\n",
       "      <td>...</td>\n",
       "      <td>108</td>\n",
       "      <td>0</td>\n",
       "      <td>0</td>\n",
       "      <td>260</td>\n",
       "      <td>0</td>\n",
       "      <td>0</td>\n",
       "      <td>7</td>\n",
       "      <td>2007</td>\n",
       "      <td>New</td>\n",
       "      <td>Partial</td>\n",
       "    </tr>\n",
       "    <tr>\n",
       "      <th>871</th>\n",
       "      <td>20</td>\n",
       "      <td>RL</td>\n",
       "      <td>6600</td>\n",
       "      <td>Pave</td>\n",
       "      <td>Reg</td>\n",
       "      <td>Lvl</td>\n",
       "      <td>AllPub</td>\n",
       "      <td>Inside</td>\n",
       "      <td>Gtl</td>\n",
       "      <td>NAmes</td>\n",
       "      <td>...</td>\n",
       "      <td>0</td>\n",
       "      <td>0</td>\n",
       "      <td>0</td>\n",
       "      <td>0</td>\n",
       "      <td>0</td>\n",
       "      <td>0</td>\n",
       "      <td>8</td>\n",
       "      <td>2009</td>\n",
       "      <td>WD</td>\n",
       "      <td>Normal</td>\n",
       "    </tr>\n",
       "    <tr>\n",
       "      <th>93</th>\n",
       "      <td>30</td>\n",
       "      <td>RL</td>\n",
       "      <td>13360</td>\n",
       "      <td>Pave</td>\n",
       "      <td>IR1</td>\n",
       "      <td>HLS</td>\n",
       "      <td>AllPub</td>\n",
       "      <td>Inside</td>\n",
       "      <td>Gtl</td>\n",
       "      <td>Crawfor</td>\n",
       "      <td>...</td>\n",
       "      <td>0</td>\n",
       "      <td>44</td>\n",
       "      <td>0</td>\n",
       "      <td>0</td>\n",
       "      <td>0</td>\n",
       "      <td>0</td>\n",
       "      <td>8</td>\n",
       "      <td>2009</td>\n",
       "      <td>WD</td>\n",
       "      <td>Normal</td>\n",
       "    </tr>\n",
       "    <tr>\n",
       "      <th>818</th>\n",
       "      <td>20</td>\n",
       "      <td>RL</td>\n",
       "      <td>13265</td>\n",
       "      <td>Pave</td>\n",
       "      <td>IR1</td>\n",
       "      <td>Lvl</td>\n",
       "      <td>AllPub</td>\n",
       "      <td>CulDSac</td>\n",
       "      <td>Gtl</td>\n",
       "      <td>Mitchel</td>\n",
       "      <td>...</td>\n",
       "      <td>59</td>\n",
       "      <td>0</td>\n",
       "      <td>0</td>\n",
       "      <td>0</td>\n",
       "      <td>0</td>\n",
       "      <td>0</td>\n",
       "      <td>7</td>\n",
       "      <td>2008</td>\n",
       "      <td>WD</td>\n",
       "      <td>Normal</td>\n",
       "    </tr>\n",
       "    <tr>\n",
       "      <th>303</th>\n",
       "      <td>20</td>\n",
       "      <td>RL</td>\n",
       "      <td>13704</td>\n",
       "      <td>Pave</td>\n",
       "      <td>IR1</td>\n",
       "      <td>Lvl</td>\n",
       "      <td>AllPub</td>\n",
       "      <td>Corner</td>\n",
       "      <td>Gtl</td>\n",
       "      <td>CollgCr</td>\n",
       "      <td>...</td>\n",
       "      <td>81</td>\n",
       "      <td>0</td>\n",
       "      <td>0</td>\n",
       "      <td>0</td>\n",
       "      <td>0</td>\n",
       "      <td>0</td>\n",
       "      <td>1</td>\n",
       "      <td>2006</td>\n",
       "      <td>WD</td>\n",
       "      <td>Normal</td>\n",
       "    </tr>\n",
       "  </tbody>\n",
       "</table>\n",
       "<p>5 rows × 60 columns</p>\n",
       "</div>"
      ],
      "text/plain": [
       "     MSSubClass MSZoning  LotArea Street LotShape LandContour Utilities  \\\n",
       "Id                                                                        \n",
       "619          20       RL    11694   Pave      Reg         Lvl    AllPub   \n",
       "871          20       RL     6600   Pave      Reg         Lvl    AllPub   \n",
       "93           30       RL    13360   Pave      IR1         HLS    AllPub   \n",
       "818          20       RL    13265   Pave      IR1         Lvl    AllPub   \n",
       "303          20       RL    13704   Pave      IR1         Lvl    AllPub   \n",
       "\n",
       "    LotConfig LandSlope Neighborhood  ... OpenPorchSF EnclosedPorch 3SsnPorch  \\\n",
       "Id                                    ...                                       \n",
       "619    Inside       Gtl      NridgHt  ...         108             0         0   \n",
       "871    Inside       Gtl        NAmes  ...           0             0         0   \n",
       "93     Inside       Gtl      Crawfor  ...           0            44         0   \n",
       "818   CulDSac       Gtl      Mitchel  ...          59             0         0   \n",
       "303    Corner       Gtl      CollgCr  ...          81             0         0   \n",
       "\n",
       "    ScreenPorch  PoolArea  MiscVal  MoSold  YrSold SaleType SaleCondition  \n",
       "Id                                                                         \n",
       "619         260         0        0       7    2007      New       Partial  \n",
       "871           0         0        0       8    2009       WD        Normal  \n",
       "93            0         0        0       8    2009       WD        Normal  \n",
       "818           0         0        0       7    2008       WD        Normal  \n",
       "303           0         0        0       1    2006       WD        Normal  \n",
       "\n",
       "[5 rows x 60 columns]"
      ]
     },
     "execution_count": 3,
     "metadata": {},
     "output_type": "execute_result"
    }
   ],
   "source": [
    "X_train.head()"
   ]
  },
  {
   "cell_type": "markdown",
   "id": "a5804644",
   "metadata": {
    "papermill": {
     "duration": 0.014607,
     "end_time": "2023-07-05T08:45:13.924954",
     "exception": false,
     "start_time": "2023-07-05T08:45:13.910347",
     "status": "completed"
    },
    "tags": []
   },
   "source": [
    "Notice that the dataset contains both numerical and categorical variables.  You'll need to encode the categorical data before training a model.\n",
    "\n",
    "Define Function to Measure Quality of Each Approach¶\n",
    "We define a function score_dataset() to compare the three different approaches to dealing with categorical variables. This function reports the mean absolute error (MAE) from a random forest model. In general, we want the MAE to be as low as possible!\n",
    "\n",
    "To compare different models, you'll use the same `score_dataset()` function from the tutorial.  This function reports the [mean absolute error](https://en.wikipedia.org/wiki/Mean_absolute_error) (MAE) from a random forest model."
   ]
  },
  {
   "cell_type": "markdown",
   "id": "dd18f083",
   "metadata": {
    "papermill": {
     "duration": 0.014594,
     "end_time": "2023-07-05T08:45:13.954476",
     "exception": false,
     "start_time": "2023-07-05T08:45:13.939882",
     "status": "completed"
    },
    "tags": []
   },
   "source": []
  },
  {
   "cell_type": "code",
   "execution_count": 4,
   "id": "aa368d6c",
   "metadata": {
    "execution": {
     "iopub.execute_input": "2023-07-05T08:45:13.986288Z",
     "iopub.status.busy": "2023-07-05T08:45:13.985630Z",
     "iopub.status.idle": "2023-07-05T08:45:14.403072Z",
     "shell.execute_reply": "2023-07-05T08:45:14.401545Z"
    },
    "papermill": {
     "duration": 0.436654,
     "end_time": "2023-07-05T08:45:14.405990",
     "exception": false,
     "start_time": "2023-07-05T08:45:13.969336",
     "status": "completed"
    },
    "tags": []
   },
   "outputs": [],
   "source": [
    "from sklearn.ensemble import RandomForestRegressor\n",
    "from sklearn.metrics import mean_absolute_error\n",
    "\n",
    "# function for comparing different approaches\n",
    "def score_dataset(X_train, X_valid, y_train, y_valid):\n",
    "    model = RandomForestRegressor(n_estimators=100, random_state=0)\n",
    "    model.fit(X_train, y_train)\n",
    "    preds = model.predict(X_valid)\n",
    "    return mean_absolute_error(y_valid, preds)"
   ]
  },
  {
   "cell_type": "markdown",
   "id": "29355a5b",
   "metadata": {
    "papermill": {
     "duration": 0.014722,
     "end_time": "2023-07-05T08:45:14.436615",
     "exception": false,
     "start_time": "2023-07-05T08:45:14.421893",
     "status": "completed"
    },
    "tags": []
   },
   "source": [
    "In this tutorial, you will learn what a categorical variable is, along with three approaches for handling this type of data.\n",
    "\n",
    "###  Introduction\n",
    "A categorical variable takes only a limited number of values.\n",
    "\n",
    "Consider a survey that asks how often you eat breakfast and provides four options: \"Never\", \"Rarely\", \"Most days\", or \"Every day\". In this case, the data is categorical, because responses fall into a fixed set of categories.\n",
    "If people responded to a survey about which what brand of car they owned, the responses would fall into categories like \"Honda\", \"Toyota\", and \"Ford\". In this case, the data is also categorical.\n",
    "You will get an error if you try to plug these variables into most machine learning models in Python without preprocessing them first. In this tutorial, we'll compare three approaches that you can use to prepare your categorical data."
   ]
  },
  {
   "cell_type": "markdown",
   "id": "f144c579",
   "metadata": {
    "papermill": {
     "duration": 0.014685,
     "end_time": "2023-07-05T08:45:14.466833",
     "exception": false,
     "start_time": "2023-07-05T08:45:14.452148",
     "status": "completed"
    },
    "tags": []
   },
   "source": [
    "## Three Approaches\n",
    "1) Drop Categorical Variables\n",
    "The easiest approach to dealing with categorical variables is to simply remove them from the dataset. This approach will only work well if the columns did not contain useful information.\n",
    "\n",
    "2) Ordinal Encoding\n",
    "Ordinal encoding assigns each unique value to a different integer.\n",
    "\n",
    "This approach assumes an ordering of the categories: \"Never\" (0) < \"Rarely\" (1) < \"Most days\" (2) < \"Every day\" (3).\n",
    "\n",
    "This assumption makes sense in this example, because there is an indisputable ranking to the categories. Not all categorical variables have a clear ordering in the values, but we refer to those that do as ordinal variables. For tree-based models (like decision trees and random forests), you can expect ordinal encoding to work well with ordinal variables.\n",
    "\n",
    "3) One-Hot Encoding\n",
    "One-hot encoding creates new columns indicating the presence (or absence) of each possible value in the original data. To understand this, we'll work through an example.\n",
    "\n",
    "In the original dataset, \"Color\" is a categorical variable with three categories: \"Red\", \"Yellow\", and \"Green\". The corresponding one-hot encoding contains one column for each possible value, and one row for each row in the original dataset. Wherever the original value was \"Red\", we put a 1 in the \"Red\" column; if the original value was \"Yellow\", we put a 1 in the \"Yellow\" column, and so on.\n",
    "\n",
    "In contrast to ordinal encoding, one-hot encoding does not assume an ordering of the categories. Thus, you can expect this approach to work particularly well if there is no clear ordering in the categorical data (e.g., \"Red\" is neither more nor less than \"Yellow\"). We refer to categorical variables without an intrinsic ranking as nominal variables.\n",
    "\n",
    "One-hot encoding generally does not perform well if the categorical variable takes on a large number of values (i.e., you generally won't use it for variables taking more than 15 different values)."
   ]
  },
  {
   "cell_type": "code",
   "execution_count": 5,
   "id": "c9b446f8",
   "metadata": {
    "execution": {
     "iopub.execute_input": "2023-07-05T08:45:14.498493Z",
     "iopub.status.busy": "2023-07-05T08:45:14.498067Z",
     "iopub.status.idle": "2023-07-05T08:45:14.524322Z",
     "shell.execute_reply": "2023-07-05T08:45:14.523032Z"
    },
    "papermill": {
     "duration": 0.04522,
     "end_time": "2023-07-05T08:45:14.526984",
     "exception": false,
     "start_time": "2023-07-05T08:45:14.481764",
     "status": "completed"
    },
    "tags": []
   },
   "outputs": [
    {
     "data": {
      "text/html": [
       "<div>\n",
       "<style scoped>\n",
       "    .dataframe tbody tr th:only-of-type {\n",
       "        vertical-align: middle;\n",
       "    }\n",
       "\n",
       "    .dataframe tbody tr th {\n",
       "        vertical-align: top;\n",
       "    }\n",
       "\n",
       "    .dataframe thead th {\n",
       "        text-align: right;\n",
       "    }\n",
       "</style>\n",
       "<table border=\"1\" class=\"dataframe\">\n",
       "  <thead>\n",
       "    <tr style=\"text-align: right;\">\n",
       "      <th></th>\n",
       "      <th>MSSubClass</th>\n",
       "      <th>MSZoning</th>\n",
       "      <th>LotArea</th>\n",
       "      <th>Street</th>\n",
       "      <th>LotShape</th>\n",
       "      <th>LandContour</th>\n",
       "      <th>Utilities</th>\n",
       "      <th>LotConfig</th>\n",
       "      <th>LandSlope</th>\n",
       "      <th>Neighborhood</th>\n",
       "      <th>...</th>\n",
       "      <th>OpenPorchSF</th>\n",
       "      <th>EnclosedPorch</th>\n",
       "      <th>3SsnPorch</th>\n",
       "      <th>ScreenPorch</th>\n",
       "      <th>PoolArea</th>\n",
       "      <th>MiscVal</th>\n",
       "      <th>MoSold</th>\n",
       "      <th>YrSold</th>\n",
       "      <th>SaleType</th>\n",
       "      <th>SaleCondition</th>\n",
       "    </tr>\n",
       "    <tr>\n",
       "      <th>Id</th>\n",
       "      <th></th>\n",
       "      <th></th>\n",
       "      <th></th>\n",
       "      <th></th>\n",
       "      <th></th>\n",
       "      <th></th>\n",
       "      <th></th>\n",
       "      <th></th>\n",
       "      <th></th>\n",
       "      <th></th>\n",
       "      <th></th>\n",
       "      <th></th>\n",
       "      <th></th>\n",
       "      <th></th>\n",
       "      <th></th>\n",
       "      <th></th>\n",
       "      <th></th>\n",
       "      <th></th>\n",
       "      <th></th>\n",
       "      <th></th>\n",
       "      <th></th>\n",
       "    </tr>\n",
       "  </thead>\n",
       "  <tbody>\n",
       "    <tr>\n",
       "      <th>619</th>\n",
       "      <td>20</td>\n",
       "      <td>RL</td>\n",
       "      <td>11694</td>\n",
       "      <td>Pave</td>\n",
       "      <td>Reg</td>\n",
       "      <td>Lvl</td>\n",
       "      <td>AllPub</td>\n",
       "      <td>Inside</td>\n",
       "      <td>Gtl</td>\n",
       "      <td>NridgHt</td>\n",
       "      <td>...</td>\n",
       "      <td>108</td>\n",
       "      <td>0</td>\n",
       "      <td>0</td>\n",
       "      <td>260</td>\n",
       "      <td>0</td>\n",
       "      <td>0</td>\n",
       "      <td>7</td>\n",
       "      <td>2007</td>\n",
       "      <td>New</td>\n",
       "      <td>Partial</td>\n",
       "    </tr>\n",
       "    <tr>\n",
       "      <th>871</th>\n",
       "      <td>20</td>\n",
       "      <td>RL</td>\n",
       "      <td>6600</td>\n",
       "      <td>Pave</td>\n",
       "      <td>Reg</td>\n",
       "      <td>Lvl</td>\n",
       "      <td>AllPub</td>\n",
       "      <td>Inside</td>\n",
       "      <td>Gtl</td>\n",
       "      <td>NAmes</td>\n",
       "      <td>...</td>\n",
       "      <td>0</td>\n",
       "      <td>0</td>\n",
       "      <td>0</td>\n",
       "      <td>0</td>\n",
       "      <td>0</td>\n",
       "      <td>0</td>\n",
       "      <td>8</td>\n",
       "      <td>2009</td>\n",
       "      <td>WD</td>\n",
       "      <td>Normal</td>\n",
       "    </tr>\n",
       "    <tr>\n",
       "      <th>93</th>\n",
       "      <td>30</td>\n",
       "      <td>RL</td>\n",
       "      <td>13360</td>\n",
       "      <td>Pave</td>\n",
       "      <td>IR1</td>\n",
       "      <td>HLS</td>\n",
       "      <td>AllPub</td>\n",
       "      <td>Inside</td>\n",
       "      <td>Gtl</td>\n",
       "      <td>Crawfor</td>\n",
       "      <td>...</td>\n",
       "      <td>0</td>\n",
       "      <td>44</td>\n",
       "      <td>0</td>\n",
       "      <td>0</td>\n",
       "      <td>0</td>\n",
       "      <td>0</td>\n",
       "      <td>8</td>\n",
       "      <td>2009</td>\n",
       "      <td>WD</td>\n",
       "      <td>Normal</td>\n",
       "    </tr>\n",
       "    <tr>\n",
       "      <th>818</th>\n",
       "      <td>20</td>\n",
       "      <td>RL</td>\n",
       "      <td>13265</td>\n",
       "      <td>Pave</td>\n",
       "      <td>IR1</td>\n",
       "      <td>Lvl</td>\n",
       "      <td>AllPub</td>\n",
       "      <td>CulDSac</td>\n",
       "      <td>Gtl</td>\n",
       "      <td>Mitchel</td>\n",
       "      <td>...</td>\n",
       "      <td>59</td>\n",
       "      <td>0</td>\n",
       "      <td>0</td>\n",
       "      <td>0</td>\n",
       "      <td>0</td>\n",
       "      <td>0</td>\n",
       "      <td>7</td>\n",
       "      <td>2008</td>\n",
       "      <td>WD</td>\n",
       "      <td>Normal</td>\n",
       "    </tr>\n",
       "    <tr>\n",
       "      <th>303</th>\n",
       "      <td>20</td>\n",
       "      <td>RL</td>\n",
       "      <td>13704</td>\n",
       "      <td>Pave</td>\n",
       "      <td>IR1</td>\n",
       "      <td>Lvl</td>\n",
       "      <td>AllPub</td>\n",
       "      <td>Corner</td>\n",
       "      <td>Gtl</td>\n",
       "      <td>CollgCr</td>\n",
       "      <td>...</td>\n",
       "      <td>81</td>\n",
       "      <td>0</td>\n",
       "      <td>0</td>\n",
       "      <td>0</td>\n",
       "      <td>0</td>\n",
       "      <td>0</td>\n",
       "      <td>1</td>\n",
       "      <td>2006</td>\n",
       "      <td>WD</td>\n",
       "      <td>Normal</td>\n",
       "    </tr>\n",
       "  </tbody>\n",
       "</table>\n",
       "<p>5 rows × 60 columns</p>\n",
       "</div>"
      ],
      "text/plain": [
       "     MSSubClass MSZoning  LotArea Street LotShape LandContour Utilities  \\\n",
       "Id                                                                        \n",
       "619          20       RL    11694   Pave      Reg         Lvl    AllPub   \n",
       "871          20       RL     6600   Pave      Reg         Lvl    AllPub   \n",
       "93           30       RL    13360   Pave      IR1         HLS    AllPub   \n",
       "818          20       RL    13265   Pave      IR1         Lvl    AllPub   \n",
       "303          20       RL    13704   Pave      IR1         Lvl    AllPub   \n",
       "\n",
       "    LotConfig LandSlope Neighborhood  ... OpenPorchSF EnclosedPorch 3SsnPorch  \\\n",
       "Id                                    ...                                       \n",
       "619    Inside       Gtl      NridgHt  ...         108             0         0   \n",
       "871    Inside       Gtl        NAmes  ...           0             0         0   \n",
       "93     Inside       Gtl      Crawfor  ...           0            44         0   \n",
       "818   CulDSac       Gtl      Mitchel  ...          59             0         0   \n",
       "303    Corner       Gtl      CollgCr  ...          81             0         0   \n",
       "\n",
       "    ScreenPorch  PoolArea  MiscVal  MoSold  YrSold SaleType SaleCondition  \n",
       "Id                                                                         \n",
       "619         260         0        0       7    2007      New       Partial  \n",
       "871           0         0        0       8    2009       WD        Normal  \n",
       "93            0         0        0       8    2009       WD        Normal  \n",
       "818           0         0        0       7    2008       WD        Normal  \n",
       "303           0         0        0       1    2006       WD        Normal  \n",
       "\n",
       "[5 rows x 60 columns]"
      ]
     },
     "execution_count": 5,
     "metadata": {},
     "output_type": "execute_result"
    }
   ],
   "source": [
    "X_train.head()"
   ]
  },
  {
   "cell_type": "code",
   "execution_count": 6,
   "id": "29633757",
   "metadata": {
    "execution": {
     "iopub.execute_input": "2023-07-05T08:45:14.560852Z",
     "iopub.status.busy": "2023-07-05T08:45:14.560394Z",
     "iopub.status.idle": "2023-07-05T08:45:14.673210Z",
     "shell.execute_reply": "2023-07-05T08:45:14.671829Z"
    },
    "papermill": {
     "duration": 0.132376,
     "end_time": "2023-07-05T08:45:14.675739",
     "exception": false,
     "start_time": "2023-07-05T08:45:14.543363",
     "status": "completed"
    },
    "tags": []
   },
   "outputs": [
    {
     "data": {
      "text/html": [
       "<div>\n",
       "<style scoped>\n",
       "    .dataframe tbody tr th:only-of-type {\n",
       "        vertical-align: middle;\n",
       "    }\n",
       "\n",
       "    .dataframe tbody tr th {\n",
       "        vertical-align: top;\n",
       "    }\n",
       "\n",
       "    .dataframe thead th {\n",
       "        text-align: right;\n",
       "    }\n",
       "</style>\n",
       "<table border=\"1\" class=\"dataframe\">\n",
       "  <thead>\n",
       "    <tr style=\"text-align: right;\">\n",
       "      <th></th>\n",
       "      <th>MSSubClass</th>\n",
       "      <th>LotArea</th>\n",
       "      <th>OverallQual</th>\n",
       "      <th>OverallCond</th>\n",
       "      <th>YearBuilt</th>\n",
       "      <th>YearRemodAdd</th>\n",
       "      <th>BsmtFinSF1</th>\n",
       "      <th>BsmtFinSF2</th>\n",
       "      <th>BsmtUnfSF</th>\n",
       "      <th>TotalBsmtSF</th>\n",
       "      <th>...</th>\n",
       "      <th>GarageArea</th>\n",
       "      <th>WoodDeckSF</th>\n",
       "      <th>OpenPorchSF</th>\n",
       "      <th>EnclosedPorch</th>\n",
       "      <th>3SsnPorch</th>\n",
       "      <th>ScreenPorch</th>\n",
       "      <th>PoolArea</th>\n",
       "      <th>MiscVal</th>\n",
       "      <th>MoSold</th>\n",
       "      <th>YrSold</th>\n",
       "    </tr>\n",
       "  </thead>\n",
       "  <tbody>\n",
       "    <tr>\n",
       "      <th>count</th>\n",
       "      <td>1168.000000</td>\n",
       "      <td>1168.000000</td>\n",
       "      <td>1168.000000</td>\n",
       "      <td>1168.000000</td>\n",
       "      <td>1168.000000</td>\n",
       "      <td>1168.000000</td>\n",
       "      <td>1168.000000</td>\n",
       "      <td>1168.000000</td>\n",
       "      <td>1168.000000</td>\n",
       "      <td>1168.000000</td>\n",
       "      <td>...</td>\n",
       "      <td>1168.000000</td>\n",
       "      <td>1168.000000</td>\n",
       "      <td>1168.000000</td>\n",
       "      <td>1168.000000</td>\n",
       "      <td>1168.000000</td>\n",
       "      <td>1168.000000</td>\n",
       "      <td>1168.000000</td>\n",
       "      <td>1168.000000</td>\n",
       "      <td>1168.000000</td>\n",
       "      <td>1168.000000</td>\n",
       "    </tr>\n",
       "    <tr>\n",
       "      <th>mean</th>\n",
       "      <td>56.605308</td>\n",
       "      <td>10589.672945</td>\n",
       "      <td>6.086473</td>\n",
       "      <td>5.572774</td>\n",
       "      <td>1970.890411</td>\n",
       "      <td>1984.692637</td>\n",
       "      <td>439.890411</td>\n",
       "      <td>45.571918</td>\n",
       "      <td>568.049658</td>\n",
       "      <td>1053.511986</td>\n",
       "      <td>...</td>\n",
       "      <td>473.632705</td>\n",
       "      <td>94.498288</td>\n",
       "      <td>48.044521</td>\n",
       "      <td>23.022260</td>\n",
       "      <td>3.218322</td>\n",
       "      <td>14.528253</td>\n",
       "      <td>2.118151</td>\n",
       "      <td>50.936644</td>\n",
       "      <td>6.301370</td>\n",
       "      <td>2007.819349</td>\n",
       "    </tr>\n",
       "    <tr>\n",
       "      <th>std</th>\n",
       "      <td>42.172322</td>\n",
       "      <td>10704.180793</td>\n",
       "      <td>1.367472</td>\n",
       "      <td>1.116908</td>\n",
       "      <td>30.407486</td>\n",
       "      <td>20.684612</td>\n",
       "      <td>435.106803</td>\n",
       "      <td>156.229962</td>\n",
       "      <td>437.569919</td>\n",
       "      <td>412.073393</td>\n",
       "      <td>...</td>\n",
       "      <td>209.442320</td>\n",
       "      <td>127.312017</td>\n",
       "      <td>68.619199</td>\n",
       "      <td>63.153093</td>\n",
       "      <td>27.916593</td>\n",
       "      <td>54.009608</td>\n",
       "      <td>36.482294</td>\n",
       "      <td>550.380636</td>\n",
       "      <td>2.725977</td>\n",
       "      <td>1.335971</td>\n",
       "    </tr>\n",
       "    <tr>\n",
       "      <th>min</th>\n",
       "      <td>20.000000</td>\n",
       "      <td>1300.000000</td>\n",
       "      <td>1.000000</td>\n",
       "      <td>1.000000</td>\n",
       "      <td>1872.000000</td>\n",
       "      <td>1950.000000</td>\n",
       "      <td>0.000000</td>\n",
       "      <td>0.000000</td>\n",
       "      <td>0.000000</td>\n",
       "      <td>0.000000</td>\n",
       "      <td>...</td>\n",
       "      <td>0.000000</td>\n",
       "      <td>0.000000</td>\n",
       "      <td>0.000000</td>\n",
       "      <td>0.000000</td>\n",
       "      <td>0.000000</td>\n",
       "      <td>0.000000</td>\n",
       "      <td>0.000000</td>\n",
       "      <td>0.000000</td>\n",
       "      <td>1.000000</td>\n",
       "      <td>2006.000000</td>\n",
       "    </tr>\n",
       "    <tr>\n",
       "      <th>25%</th>\n",
       "      <td>20.000000</td>\n",
       "      <td>7589.500000</td>\n",
       "      <td>5.000000</td>\n",
       "      <td>5.000000</td>\n",
       "      <td>1953.750000</td>\n",
       "      <td>1966.000000</td>\n",
       "      <td>0.000000</td>\n",
       "      <td>0.000000</td>\n",
       "      <td>228.000000</td>\n",
       "      <td>798.750000</td>\n",
       "      <td>...</td>\n",
       "      <td>336.000000</td>\n",
       "      <td>0.000000</td>\n",
       "      <td>0.000000</td>\n",
       "      <td>0.000000</td>\n",
       "      <td>0.000000</td>\n",
       "      <td>0.000000</td>\n",
       "      <td>0.000000</td>\n",
       "      <td>0.000000</td>\n",
       "      <td>5.000000</td>\n",
       "      <td>2007.000000</td>\n",
       "    </tr>\n",
       "    <tr>\n",
       "      <th>50%</th>\n",
       "      <td>50.000000</td>\n",
       "      <td>9512.500000</td>\n",
       "      <td>6.000000</td>\n",
       "      <td>5.000000</td>\n",
       "      <td>1972.000000</td>\n",
       "      <td>1993.000000</td>\n",
       "      <td>379.500000</td>\n",
       "      <td>0.000000</td>\n",
       "      <td>482.500000</td>\n",
       "      <td>992.000000</td>\n",
       "      <td>...</td>\n",
       "      <td>477.500000</td>\n",
       "      <td>0.000000</td>\n",
       "      <td>26.000000</td>\n",
       "      <td>0.000000</td>\n",
       "      <td>0.000000</td>\n",
       "      <td>0.000000</td>\n",
       "      <td>0.000000</td>\n",
       "      <td>0.000000</td>\n",
       "      <td>6.000000</td>\n",
       "      <td>2008.000000</td>\n",
       "    </tr>\n",
       "    <tr>\n",
       "      <th>75%</th>\n",
       "      <td>70.000000</td>\n",
       "      <td>11601.500000</td>\n",
       "      <td>7.000000</td>\n",
       "      <td>6.000000</td>\n",
       "      <td>2000.000000</td>\n",
       "      <td>2004.000000</td>\n",
       "      <td>716.000000</td>\n",
       "      <td>0.000000</td>\n",
       "      <td>811.250000</td>\n",
       "      <td>1276.250000</td>\n",
       "      <td>...</td>\n",
       "      <td>576.000000</td>\n",
       "      <td>168.000000</td>\n",
       "      <td>68.000000</td>\n",
       "      <td>0.000000</td>\n",
       "      <td>0.000000</td>\n",
       "      <td>0.000000</td>\n",
       "      <td>0.000000</td>\n",
       "      <td>0.000000</td>\n",
       "      <td>8.000000</td>\n",
       "      <td>2009.000000</td>\n",
       "    </tr>\n",
       "    <tr>\n",
       "      <th>max</th>\n",
       "      <td>190.000000</td>\n",
       "      <td>215245.000000</td>\n",
       "      <td>10.000000</td>\n",
       "      <td>9.000000</td>\n",
       "      <td>2010.000000</td>\n",
       "      <td>2010.000000</td>\n",
       "      <td>2260.000000</td>\n",
       "      <td>1120.000000</td>\n",
       "      <td>2153.000000</td>\n",
       "      <td>3206.000000</td>\n",
       "      <td>...</td>\n",
       "      <td>1390.000000</td>\n",
       "      <td>736.000000</td>\n",
       "      <td>547.000000</td>\n",
       "      <td>552.000000</td>\n",
       "      <td>508.000000</td>\n",
       "      <td>480.000000</td>\n",
       "      <td>738.000000</td>\n",
       "      <td>15500.000000</td>\n",
       "      <td>12.000000</td>\n",
       "      <td>2010.000000</td>\n",
       "    </tr>\n",
       "  </tbody>\n",
       "</table>\n",
       "<p>8 rows × 33 columns</p>\n",
       "</div>"
      ],
      "text/plain": [
       "        MSSubClass        LotArea  OverallQual  OverallCond    YearBuilt  \\\n",
       "count  1168.000000    1168.000000  1168.000000  1168.000000  1168.000000   \n",
       "mean     56.605308   10589.672945     6.086473     5.572774  1970.890411   \n",
       "std      42.172322   10704.180793     1.367472     1.116908    30.407486   \n",
       "min      20.000000    1300.000000     1.000000     1.000000  1872.000000   \n",
       "25%      20.000000    7589.500000     5.000000     5.000000  1953.750000   \n",
       "50%      50.000000    9512.500000     6.000000     5.000000  1972.000000   \n",
       "75%      70.000000   11601.500000     7.000000     6.000000  2000.000000   \n",
       "max     190.000000  215245.000000    10.000000     9.000000  2010.000000   \n",
       "\n",
       "       YearRemodAdd   BsmtFinSF1   BsmtFinSF2    BsmtUnfSF  TotalBsmtSF  ...  \\\n",
       "count   1168.000000  1168.000000  1168.000000  1168.000000  1168.000000  ...   \n",
       "mean    1984.692637   439.890411    45.571918   568.049658  1053.511986  ...   \n",
       "std       20.684612   435.106803   156.229962   437.569919   412.073393  ...   \n",
       "min     1950.000000     0.000000     0.000000     0.000000     0.000000  ...   \n",
       "25%     1966.000000     0.000000     0.000000   228.000000   798.750000  ...   \n",
       "50%     1993.000000   379.500000     0.000000   482.500000   992.000000  ...   \n",
       "75%     2004.000000   716.000000     0.000000   811.250000  1276.250000  ...   \n",
       "max     2010.000000  2260.000000  1120.000000  2153.000000  3206.000000  ...   \n",
       "\n",
       "        GarageArea   WoodDeckSF  OpenPorchSF  EnclosedPorch    3SsnPorch  \\\n",
       "count  1168.000000  1168.000000  1168.000000    1168.000000  1168.000000   \n",
       "mean    473.632705    94.498288    48.044521      23.022260     3.218322   \n",
       "std     209.442320   127.312017    68.619199      63.153093    27.916593   \n",
       "min       0.000000     0.000000     0.000000       0.000000     0.000000   \n",
       "25%     336.000000     0.000000     0.000000       0.000000     0.000000   \n",
       "50%     477.500000     0.000000    26.000000       0.000000     0.000000   \n",
       "75%     576.000000   168.000000    68.000000       0.000000     0.000000   \n",
       "max    1390.000000   736.000000   547.000000     552.000000   508.000000   \n",
       "\n",
       "       ScreenPorch     PoolArea       MiscVal       MoSold       YrSold  \n",
       "count  1168.000000  1168.000000   1168.000000  1168.000000  1168.000000  \n",
       "mean     14.528253     2.118151     50.936644     6.301370  2007.819349  \n",
       "std      54.009608    36.482294    550.380636     2.725977     1.335971  \n",
       "min       0.000000     0.000000      0.000000     1.000000  2006.000000  \n",
       "25%       0.000000     0.000000      0.000000     5.000000  2007.000000  \n",
       "50%       0.000000     0.000000      0.000000     6.000000  2008.000000  \n",
       "75%       0.000000     0.000000      0.000000     8.000000  2009.000000  \n",
       "max     480.000000   738.000000  15500.000000    12.000000  2010.000000  \n",
       "\n",
       "[8 rows x 33 columns]"
      ]
     },
     "execution_count": 6,
     "metadata": {},
     "output_type": "execute_result"
    }
   ],
   "source": [
    "X_train.describe()"
   ]
  },
  {
   "cell_type": "markdown",
   "id": "624ee255",
   "metadata": {
    "papermill": {
     "duration": 0.016161,
     "end_time": "2023-07-05T08:45:14.708106",
     "exception": false,
     "start_time": "2023-07-05T08:45:14.691945",
     "status": "completed"
    },
    "tags": []
   },
   "source": [
    "Next, we obtain a list of all of the categorical variables in the training data.\n",
    "\n",
    "We do this by checking the data type (or dtype) of each column. The object dtype indicates a column has text (there are other things it could theoretically be, but that's unimportant for our purposes). For this dataset, the columns with text indicate categorical variables."
   ]
  },
  {
   "cell_type": "code",
   "execution_count": 7,
   "id": "ed935010",
   "metadata": {
    "execution": {
     "iopub.execute_input": "2023-07-05T08:45:14.742037Z",
     "iopub.status.busy": "2023-07-05T08:45:14.741601Z",
     "iopub.status.idle": "2023-07-05T08:45:14.749973Z",
     "shell.execute_reply": "2023-07-05T08:45:14.748613Z"
    },
    "papermill": {
     "duration": 0.028521,
     "end_time": "2023-07-05T08:45:14.752537",
     "exception": false,
     "start_time": "2023-07-05T08:45:14.724016",
     "status": "completed"
    },
    "tags": []
   },
   "outputs": [
    {
     "name": "stdout",
     "output_type": "stream",
     "text": [
      "Categorical variables:\n",
      "['MSZoning', 'Street', 'LotShape', 'LandContour', 'Utilities', 'LotConfig', 'LandSlope', 'Neighborhood', 'Condition1', 'Condition2', 'BldgType', 'HouseStyle', 'RoofStyle', 'RoofMatl', 'Exterior1st', 'Exterior2nd', 'ExterQual', 'ExterCond', 'Foundation', 'Heating', 'HeatingQC', 'CentralAir', 'KitchenQual', 'Functional', 'PavedDrive', 'SaleType', 'SaleCondition']\n"
     ]
    }
   ],
   "source": [
    "# Get list of categorical variables\n",
    "s = (X_train.dtypes == 'object')\n",
    "object_cols = list(s[s].index)\n",
    "\n",
    "print('Categorical variables:')\n",
    "print(object_cols)"
   ]
  },
  {
   "cell_type": "markdown",
   "id": "dc140825",
   "metadata": {
    "papermill": {
     "duration": 0.015548,
     "end_time": "2023-07-05T08:45:14.784470",
     "exception": false,
     "start_time": "2023-07-05T08:45:14.768922",
     "status": "completed"
    },
    "tags": []
   },
   "source": [
    "# Step 1: Drop columns with categorical data\n",
    "\n",
    "You'll get started with the most straightforward approach.  Use the code cell below to preprocess the data in `X_train` and `X_valid` to remove columns with categorical data.  Set the preprocessed DataFrames to `drop_X_train` and `drop_X_valid`, respectively.  \n",
    "\n",
    "Score from Approach 1 (Drop Categorical Variables).\n",
    "\n",
    "We drop the object columns with the select_dtypes() method."
   ]
  },
  {
   "cell_type": "code",
   "execution_count": 8,
   "id": "78e4f085",
   "metadata": {
    "execution": {
     "iopub.execute_input": "2023-07-05T08:45:14.820201Z",
     "iopub.status.busy": "2023-07-05T08:45:14.819752Z",
     "iopub.status.idle": "2023-07-05T08:45:14.832395Z",
     "shell.execute_reply": "2023-07-05T08:45:14.831405Z"
    },
    "papermill": {
     "duration": 0.033777,
     "end_time": "2023-07-05T08:45:14.835007",
     "exception": false,
     "start_time": "2023-07-05T08:45:14.801230",
     "status": "completed"
    },
    "tags": []
   },
   "outputs": [
    {
     "data": {
      "application/javascript": [
       "parent.postMessage({\"jupyterEvent\": \"custom.exercise_interaction\", \"data\": {\"outcomeType\": 1, \"valueTowardsCompletion\": 0.5, \"interactionType\": 1, \"questionType\": 2, \"questionId\": \"1_Drop\", \"learnToolsVersion\": \"0.3.4\", \"failureMessage\": \"\", \"exceptionClass\": \"\", \"trace\": \"\"}}, \"*\")"
      ],
      "text/plain": [
       "<IPython.core.display.Javascript object>"
      ]
     },
     "metadata": {},
     "output_type": "display_data"
    },
    {
     "data": {
      "text/markdown": [
       "<span style=\"color:#33cc33\">Correct</span>"
      ],
      "text/plain": [
       "Correct"
      ]
     },
     "metadata": {},
     "output_type": "display_data"
    }
   ],
   "source": [
    "# Fill in the lines below: drop columns in training and validation data\n",
    "drop_X_train = X_train.select_dtypes(exclude=['object'])\n",
    "drop_X_valid = X_valid.select_dtypes(exclude=['object'])\n",
    "\n",
    "# Check your answers\n",
    "step_1.check()"
   ]
  },
  {
   "cell_type": "code",
   "execution_count": 9,
   "id": "826ecaae",
   "metadata": {
    "execution": {
     "iopub.execute_input": "2023-07-05T08:45:14.871481Z",
     "iopub.status.busy": "2023-07-05T08:45:14.870412Z",
     "iopub.status.idle": "2023-07-05T08:45:14.880823Z",
     "shell.execute_reply": "2023-07-05T08:45:14.879693Z"
    },
    "papermill": {
     "duration": 0.031599,
     "end_time": "2023-07-05T08:45:14.883665",
     "exception": false,
     "start_time": "2023-07-05T08:45:14.852066",
     "status": "completed"
    },
    "tags": []
   },
   "outputs": [
    {
     "data": {
      "application/javascript": [
       "parent.postMessage({\"jupyterEvent\": \"custom.exercise_interaction\", \"data\": {\"interactionType\": 2, \"questionType\": 2, \"questionId\": \"1_Drop\", \"learnToolsVersion\": \"0.3.4\", \"valueTowardsCompletion\": 0.0, \"failureMessage\": \"\", \"exceptionClass\": \"\", \"trace\": \"\", \"outcomeType\": 4}}, \"*\")"
      ],
      "text/plain": [
       "<IPython.core.display.Javascript object>"
      ]
     },
     "metadata": {},
     "output_type": "display_data"
    },
    {
     "data": {
      "text/markdown": [
       "<span style=\"color:#3366cc\">Hint:</span> Use the [`select_dtypes()`](https://pandas.pydata.org/pandas-docs/stable/reference/api/pandas.DataFrame.select_dtypes.html) method to drop all columns with the `object` dtype."
      ],
      "text/plain": [
       "Hint: Use the [`select_dtypes()`](https://pandas.pydata.org/pandas-docs/stable/reference/api/pandas.DataFrame.select_dtypes.html) method to drop all columns with the `object` dtype."
      ]
     },
     "metadata": {},
     "output_type": "display_data"
    }
   ],
   "source": [
    "# Lines below will give you a hint or solution code\n",
    "step_1.hint()\n",
    "#step_1.solution()"
   ]
  },
  {
   "cell_type": "markdown",
   "id": "fd2aa412",
   "metadata": {
    "papermill": {
     "duration": 0.016291,
     "end_time": "2023-07-05T08:45:14.916674",
     "exception": false,
     "start_time": "2023-07-05T08:45:14.900383",
     "status": "completed"
    },
    "tags": []
   },
   "source": [
    "Run the next code cell to get the MAE for this approach."
   ]
  },
  {
   "cell_type": "code",
   "execution_count": 10,
   "id": "a0397e47",
   "metadata": {
    "execution": {
     "iopub.execute_input": "2023-07-05T08:45:14.953042Z",
     "iopub.status.busy": "2023-07-05T08:45:14.952377Z",
     "iopub.status.idle": "2023-07-05T08:45:16.284091Z",
     "shell.execute_reply": "2023-07-05T08:45:16.281749Z"
    },
    "papermill": {
     "duration": 1.35341,
     "end_time": "2023-07-05T08:45:16.287495",
     "exception": false,
     "start_time": "2023-07-05T08:45:14.934085",
     "status": "completed"
    },
    "tags": []
   },
   "outputs": [
    {
     "name": "stdout",
     "output_type": "stream",
     "text": [
      "MAE from Approach 1 (Drop categorical variables):\n",
      "17837.82570776256\n"
     ]
    }
   ],
   "source": [
    "print(\"MAE from Approach 1 (Drop categorical variables):\")\n",
    "print(score_dataset(drop_X_train, drop_X_valid, y_train, y_valid))"
   ]
  },
  {
   "cell_type": "markdown",
   "id": "05574310",
   "metadata": {
    "papermill": {
     "duration": 0.017966,
     "end_time": "2023-07-05T08:45:16.323408",
     "exception": false,
     "start_time": "2023-07-05T08:45:16.305442",
     "status": "completed"
    },
    "tags": []
   },
   "source": [
    "Before jumping into ordinal encoding, we'll investigate the dataset.  Specifically, we'll look at the `'Condition2'` column.  The code cell below prints the unique entries in both the training and validation sets."
   ]
  },
  {
   "cell_type": "code",
   "execution_count": 11,
   "id": "ae368bfb",
   "metadata": {
    "execution": {
     "iopub.execute_input": "2023-07-05T08:45:16.361358Z",
     "iopub.status.busy": "2023-07-05T08:45:16.360561Z",
     "iopub.status.idle": "2023-07-05T08:45:16.369964Z",
     "shell.execute_reply": "2023-07-05T08:45:16.368683Z"
    },
    "papermill": {
     "duration": 0.030775,
     "end_time": "2023-07-05T08:45:16.372435",
     "exception": false,
     "start_time": "2023-07-05T08:45:16.341660",
     "status": "completed"
    },
    "tags": []
   },
   "outputs": [
    {
     "name": "stdout",
     "output_type": "stream",
     "text": [
      "Unique values in 'Condition2' column in training data: ['Norm' 'PosA' 'Feedr' 'PosN' 'Artery' 'RRAe']\n",
      "\n",
      "Unique values in 'Condition2' column in validation data: ['Norm' 'RRAn' 'RRNn' 'Artery' 'Feedr' 'PosN']\n"
     ]
    }
   ],
   "source": [
    "print(\"Unique values in 'Condition2' column in training data:\", X_train['Condition2'].unique())\n",
    "print(\"\\nUnique values in 'Condition2' column in validation data:\", X_valid['Condition2'].unique())"
   ]
  },
  {
   "cell_type": "markdown",
   "id": "99ce0ea0",
   "metadata": {
    "papermill": {
     "duration": 0.016602,
     "end_time": "2023-07-05T08:45:16.406580",
     "exception": false,
     "start_time": "2023-07-05T08:45:16.389978",
     "status": "completed"
    },
    "tags": []
   },
   "source": [
    "#### Score from Approach 2 (Ordinal Encoding)\n",
    "Scikit-learn has a OrdinalEncoder class that can be used to get ordinal encodings. We loop over the categorical variables and apply the ordinal encoder separately to each column."
   ]
  },
  {
   "cell_type": "markdown",
   "id": "5b70ccda",
   "metadata": {
    "papermill": {
     "duration": 0.01827,
     "end_time": "2023-07-05T08:45:16.443683",
     "exception": false,
     "start_time": "2023-07-05T08:45:16.425413",
     "status": "completed"
    },
    "tags": []
   },
   "source": [
    "# Step 2: Ordinal encoding\n",
    "\n",
    "### Part A\n",
    "\n",
    "If you now write code to: \n",
    "- fit an ordinal encoder to the training data, and then \n",
    "- use it to transform both the training and validation data, \n",
    "\n",
    "you'll get an error.  Can you see why this is the case?  (_You'll need  to use the above output to answer this question._)"
   ]
  },
  {
   "cell_type": "code",
   "execution_count": 12,
   "id": "f5deb8b7",
   "metadata": {
    "execution": {
     "iopub.execute_input": "2023-07-05T08:45:16.480046Z",
     "iopub.status.busy": "2023-07-05T08:45:16.479635Z",
     "iopub.status.idle": "2023-07-05T08:45:16.488320Z",
     "shell.execute_reply": "2023-07-05T08:45:16.487156Z"
    },
    "papermill": {
     "duration": 0.030051,
     "end_time": "2023-07-05T08:45:16.490912",
     "exception": false,
     "start_time": "2023-07-05T08:45:16.460861",
     "status": "completed"
    },
    "tags": []
   },
   "outputs": [
    {
     "data": {
      "application/javascript": [
       "parent.postMessage({\"jupyterEvent\": \"custom.exercise_interaction\", \"data\": {\"outcomeType\": 1, \"valueTowardsCompletion\": 0.5, \"interactionType\": 1, \"questionType\": 4, \"questionId\": \"2.1_LabelA\", \"learnToolsVersion\": \"0.3.4\", \"failureMessage\": \"\", \"exceptionClass\": \"\", \"trace\": \"\"}}, \"*\")"
      ],
      "text/plain": [
       "<IPython.core.display.Javascript object>"
      ]
     },
     "metadata": {},
     "output_type": "display_data"
    },
    {
     "data": {
      "text/markdown": [
       "<span style=\"color:#33cc33\">Correct:</span> \n",
       "\n",
       "Fitting an ordinal encoder to a column in the training data creates a corresponding integer-valued label for each unique value **that appears in the training data**. In the case that the validation data contains values that don't also appear in the training data, the encoder will throw an error, because these values won't have an integer assigned to them.  Notice that the `'Condition2'` column in the validation data contains the values `'RRAn'` and `'RRNn'`, but these don't appear in the training data -- thus, if we try to use an ordinal encoder with scikit-learn, the code will throw an error."
      ],
      "text/plain": [
       "Correct: \n",
       "\n",
       "Fitting an ordinal encoder to a column in the training data creates a corresponding integer-valued label for each unique value **that appears in the training data**. In the case that the validation data contains values that don't also appear in the training data, the encoder will throw an error, because these values won't have an integer assigned to them.  Notice that the `'Condition2'` column in the validation data contains the values `'RRAn'` and `'RRNn'`, but these don't appear in the training data -- thus, if we try to use an ordinal encoder with scikit-learn, the code will throw an error."
      ]
     },
     "metadata": {},
     "output_type": "display_data"
    }
   ],
   "source": [
    "# Check your answer (Run this code cell to receive credit!)\n",
    "step_2.a.check()"
   ]
  },
  {
   "cell_type": "code",
   "execution_count": 13,
   "id": "b25e069d",
   "metadata": {
    "execution": {
     "iopub.execute_input": "2023-07-05T08:45:16.528027Z",
     "iopub.status.busy": "2023-07-05T08:45:16.527605Z",
     "iopub.status.idle": "2023-07-05T08:45:16.536759Z",
     "shell.execute_reply": "2023-07-05T08:45:16.535555Z"
    },
    "papermill": {
     "duration": 0.031094,
     "end_time": "2023-07-05T08:45:16.539620",
     "exception": false,
     "start_time": "2023-07-05T08:45:16.508526",
     "status": "completed"
    },
    "tags": []
   },
   "outputs": [
    {
     "data": {
      "application/javascript": [
       "parent.postMessage({\"jupyterEvent\": \"custom.exercise_interaction\", \"data\": {\"interactionType\": 2, \"questionType\": 4, \"questionId\": \"2.1_LabelA\", \"learnToolsVersion\": \"0.3.4\", \"valueTowardsCompletion\": 0.0, \"failureMessage\": \"\", \"exceptionClass\": \"\", \"trace\": \"\", \"outcomeType\": 4}}, \"*\")"
      ],
      "text/plain": [
       "<IPython.core.display.Javascript object>"
      ]
     },
     "metadata": {},
     "output_type": "display_data"
    },
    {
     "data": {
      "text/markdown": [
       "<span style=\"color:#3366cc\">Hint:</span> Are there any values that appear in the validation data but not in the training data?"
      ],
      "text/plain": [
       "Hint: Are there any values that appear in the validation data but not in the training data?"
      ]
     },
     "metadata": {},
     "output_type": "display_data"
    }
   ],
   "source": [
    "step_2.a.hint()"
   ]
  },
  {
   "cell_type": "markdown",
   "id": "81eadd8e",
   "metadata": {
    "papermill": {
     "duration": 0.017414,
     "end_time": "2023-07-05T08:45:16.574947",
     "exception": false,
     "start_time": "2023-07-05T08:45:16.557533",
     "status": "completed"
    },
    "tags": []
   },
   "source": [
    "This is a common problem that you'll encounter with real-world data, and there are many approaches to fixing this issue.  For instance, you can write a custom ordinal encoder to deal with new categories.  The simplest approach, however, is to drop the problematic categorical columns.  \n",
    "\n",
    "Run the code cell below to save the problematic columns to a Python list `bad_label_cols`.  Likewise, columns that can be safely ordinal encoded are stored in `good_label_cols`."
   ]
  },
  {
   "cell_type": "code",
   "execution_count": 14,
   "id": "0c94c3db",
   "metadata": {
    "execution": {
     "iopub.execute_input": "2023-07-05T08:45:16.613038Z",
     "iopub.status.busy": "2023-07-05T08:45:16.611982Z",
     "iopub.status.idle": "2023-07-05T08:45:16.629789Z",
     "shell.execute_reply": "2023-07-05T08:45:16.628366Z"
    },
    "papermill": {
     "duration": 0.039693,
     "end_time": "2023-07-05T08:45:16.632545",
     "exception": false,
     "start_time": "2023-07-05T08:45:16.592852",
     "status": "completed"
    },
    "tags": []
   },
   "outputs": [
    {
     "name": "stdout",
     "output_type": "stream",
     "text": [
      "Categorical columns that will be ordinal encoded: ['MSZoning', 'Street', 'LotShape', 'LandContour', 'Utilities', 'LotConfig', 'LandSlope', 'Neighborhood', 'Condition1', 'BldgType', 'HouseStyle', 'RoofStyle', 'Exterior1st', 'Exterior2nd', 'ExterQual', 'ExterCond', 'Foundation', 'Heating', 'HeatingQC', 'CentralAir', 'KitchenQual', 'PavedDrive', 'SaleType', 'SaleCondition']\n",
      "\n",
      "Categorical columns that will be dropped from the dataset: ['Condition2', 'Functional', 'RoofMatl']\n"
     ]
    }
   ],
   "source": [
    "# Categorical columns in the training data\n",
    "object_cols = [col for col in X_train.columns if X_train[col].dtype == \"object\"]\n",
    "\n",
    "# Columns that can be safely ordinal encoded\n",
    "good_label_cols = [col for col in object_cols if \n",
    "                   set(X_valid[col]).issubset(set(X_train[col]))]\n",
    "        \n",
    "# Problematic columns that will be dropped from the dataset\n",
    "bad_label_cols = list(set(object_cols)-set(good_label_cols))\n",
    "        \n",
    "print('Categorical columns that will be ordinal encoded:', good_label_cols)\n",
    "print('\\nCategorical columns that will be dropped from the dataset:', bad_label_cols)"
   ]
  },
  {
   "cell_type": "markdown",
   "id": "4df10a78",
   "metadata": {
    "papermill": {
     "duration": 0.017642,
     "end_time": "2023-07-05T08:45:16.667939",
     "exception": false,
     "start_time": "2023-07-05T08:45:16.650297",
     "status": "completed"
    },
    "tags": []
   },
   "source": [
    "set(X_valid[col]).issubset(set(X_train[col])): This checks if the set of unique values in the validation data is a subset of the set of unique values in the training data. In other words, it verifies if all the unique values in the validation data are also present in the training data.\n",
    "\n",
    "\n",
    "If the condition is satisfied (returns True), it means that all the unique values in the validation data are indeed present in the training data. This indicates that the column can be safely ordinal encoded because there won't be any unseen values during the encoding process. Therefore, the column is considered \"good\" for ordinal encoding.\n",
    "\n",
    "If the condition is not satisfied (returns False), it means that there are unique values in the validation data that are not present in the training data. This suggests that the column contains unseen categories, which could cause issues during encoding since the model hasn't been trained on those categories. Therefore, the column is considered \"bad\" and will be dropped from the dataset."
   ]
  },
  {
   "cell_type": "markdown",
   "id": "e1fc4ad3",
   "metadata": {
    "papermill": {
     "duration": 0.017395,
     "end_time": "2023-07-05T08:45:16.702998",
     "exception": false,
     "start_time": "2023-07-05T08:45:16.685603",
     "status": "completed"
    },
    "tags": []
   },
   "source": [
    "### Part B\n",
    "\n",
    "Use the next code cell to ordinal encode the data in `X_train` and `X_valid`.  Set the preprocessed DataFrames to `label_X_train` and `label_X_valid`, respectively.  \n",
    "- We have provided code below to drop the categorical columns in `bad_label_cols` from the dataset. \n",
    "- You should ordinal encode the categorical columns in `good_label_cols`.  "
   ]
  },
  {
   "cell_type": "code",
   "execution_count": 15,
   "id": "b597daf1",
   "metadata": {
    "execution": {
     "iopub.execute_input": "2023-07-05T08:45:16.740925Z",
     "iopub.status.busy": "2023-07-05T08:45:16.739905Z",
     "iopub.status.idle": "2023-07-05T08:45:16.794205Z",
     "shell.execute_reply": "2023-07-05T08:45:16.793364Z"
    },
    "papermill": {
     "duration": 0.075704,
     "end_time": "2023-07-05T08:45:16.796383",
     "exception": false,
     "start_time": "2023-07-05T08:45:16.720679",
     "status": "completed"
    },
    "tags": []
   },
   "outputs": [
    {
     "data": {
      "application/javascript": [
       "parent.postMessage({\"jupyterEvent\": \"custom.exercise_interaction\", \"data\": {\"outcomeType\": 1, \"valueTowardsCompletion\": 0.5, \"interactionType\": 1, \"questionType\": 2, \"questionId\": \"2.2_LabelB\", \"learnToolsVersion\": \"0.3.4\", \"failureMessage\": \"\", \"exceptionClass\": \"\", \"trace\": \"\"}}, \"*\")"
      ],
      "text/plain": [
       "<IPython.core.display.Javascript object>"
      ]
     },
     "metadata": {},
     "output_type": "display_data"
    },
    {
     "data": {
      "text/markdown": [
       "<span style=\"color:#33cc33\">Correct</span>"
      ],
      "text/plain": [
       "Correct"
      ]
     },
     "metadata": {},
     "output_type": "display_data"
    }
   ],
   "source": [
    "from sklearn.preprocessing import OrdinalEncoder\n",
    "\n",
    "# Drop categorical columns that will not be encoded\n",
    "label_X_train = X_train.drop(bad_label_cols, axis=1)\n",
    "label_X_valid = X_valid.drop(bad_label_cols, axis=1)\n",
    "\n",
    "# Apply ordinal encoder\n",
    "ordinal_encoder = OrdinalEncoder()\n",
    "label_X_train[good_label_cols] = ordinal_encoder.fit_transform(X_train[good_label_cols])\n",
    "label_X_valid[good_label_cols] = ordinal_encoder.transform(X_valid[good_label_cols])\n",
    "\n",
    "# Check your answer\n",
    "step_2.b.check()"
   ]
  },
  {
   "cell_type": "code",
   "execution_count": 16,
   "id": "8e427e8b",
   "metadata": {
    "execution": {
     "iopub.execute_input": "2023-07-05T08:45:16.834834Z",
     "iopub.status.busy": "2023-07-05T08:45:16.833631Z",
     "iopub.status.idle": "2023-07-05T08:45:16.842684Z",
     "shell.execute_reply": "2023-07-05T08:45:16.841558Z"
    },
    "papermill": {
     "duration": 0.030719,
     "end_time": "2023-07-05T08:45:16.845019",
     "exception": false,
     "start_time": "2023-07-05T08:45:16.814300",
     "status": "completed"
    },
    "tags": []
   },
   "outputs": [
    {
     "data": {
      "application/javascript": [
       "parent.postMessage({\"jupyterEvent\": \"custom.exercise_interaction\", \"data\": {\"interactionType\": 2, \"questionType\": 2, \"questionId\": \"2.2_LabelB\", \"learnToolsVersion\": \"0.3.4\", \"valueTowardsCompletion\": 0.0, \"failureMessage\": \"\", \"exceptionClass\": \"\", \"trace\": \"\", \"outcomeType\": 4}}, \"*\")"
      ],
      "text/plain": [
       "<IPython.core.display.Javascript object>"
      ]
     },
     "metadata": {},
     "output_type": "display_data"
    },
    {
     "data": {
      "text/markdown": [
       "<span style=\"color:#3366cc\">Hint:</span> Use the `OrdinalEncoder` class from scikit-learn. You should only encode the columns in `good_label_cols`."
      ],
      "text/plain": [
       "Hint: Use the `OrdinalEncoder` class from scikit-learn. You should only encode the columns in `good_label_cols`."
      ]
     },
     "metadata": {},
     "output_type": "display_data"
    }
   ],
   "source": [
    "# Lines below will give you a hint or solution code\n",
    "step_2.b.hint()\n",
    "#step_2.b.solution()"
   ]
  },
  {
   "cell_type": "markdown",
   "id": "4474f58b",
   "metadata": {
    "papermill": {
     "duration": 0.018796,
     "end_time": "2023-07-05T08:45:16.883344",
     "exception": false,
     "start_time": "2023-07-05T08:45:16.864548",
     "status": "completed"
    },
    "tags": []
   },
   "source": [
    "Run the next code cell to get the MAE for this approach."
   ]
  },
  {
   "cell_type": "code",
   "execution_count": 17,
   "id": "98dfd27d",
   "metadata": {
    "execution": {
     "iopub.execute_input": "2023-07-05T08:45:16.921984Z",
     "iopub.status.busy": "2023-07-05T08:45:16.921502Z",
     "iopub.status.idle": "2023-07-05T08:45:18.628809Z",
     "shell.execute_reply": "2023-07-05T08:45:18.627217Z"
    },
    "papermill": {
     "duration": 1.729898,
     "end_time": "2023-07-05T08:45:18.631539",
     "exception": false,
     "start_time": "2023-07-05T08:45:16.901641",
     "status": "completed"
    },
    "tags": []
   },
   "outputs": [
    {
     "name": "stdout",
     "output_type": "stream",
     "text": [
      "MAE from Approach 2 (Ordinal Encoding):\n",
      "17098.01649543379\n"
     ]
    }
   ],
   "source": [
    "print(\"MAE from Approach 2 (Ordinal Encoding):\") \n",
    "print(score_dataset(label_X_train, label_X_valid, y_train, y_valid))"
   ]
  },
  {
   "cell_type": "markdown",
   "id": "5ec2115c",
   "metadata": {
    "papermill": {
     "duration": 0.019512,
     "end_time": "2023-07-05T08:45:18.669741",
     "exception": false,
     "start_time": "2023-07-05T08:45:18.650229",
     "status": "completed"
    },
    "tags": []
   },
   "source": [
    "In the code cell above, for each column, we randomly assign each unique value to a different integer. This is a common approach that is simpler than providing custom labels; however, we can expect an additional boost in performance if we provide better-informed labels for all ordinal variables."
   ]
  },
  {
   "cell_type": "markdown",
   "id": "a0c0aab2",
   "metadata": {
    "papermill": {
     "duration": 0.019706,
     "end_time": "2023-07-05T08:45:18.708843",
     "exception": false,
     "start_time": "2023-07-05T08:45:18.689137",
     "status": "completed"
    },
    "tags": []
   },
   "source": [
    "So far, you've tried two different approaches to dealing with categorical variables.  And, you've seen that encoding categorical data yields better results than removing columns from the dataset.\n",
    "\n",
    "Soon, you'll try one-hot encoding.  Before then, there's one additional topic we need to cover.  Begin by running the next code cell without changes.  "
   ]
  },
  {
   "cell_type": "code",
   "execution_count": 18,
   "id": "64adf53b",
   "metadata": {
    "execution": {
     "iopub.execute_input": "2023-07-05T08:45:18.748978Z",
     "iopub.status.busy": "2023-07-05T08:45:18.748530Z",
     "iopub.status.idle": "2023-07-05T08:45:18.765431Z",
     "shell.execute_reply": "2023-07-05T08:45:18.764151Z"
    },
    "papermill": {
     "duration": 0.040174,
     "end_time": "2023-07-05T08:45:18.768266",
     "exception": false,
     "start_time": "2023-07-05T08:45:18.728092",
     "status": "completed"
    },
    "tags": []
   },
   "outputs": [
    {
     "data": {
      "text/plain": [
       "[('Street', 2),\n",
       " ('Utilities', 2),\n",
       " ('CentralAir', 2),\n",
       " ('LandSlope', 3),\n",
       " ('PavedDrive', 3),\n",
       " ('LotShape', 4),\n",
       " ('LandContour', 4),\n",
       " ('ExterQual', 4),\n",
       " ('KitchenQual', 4),\n",
       " ('MSZoning', 5),\n",
       " ('LotConfig', 5),\n",
       " ('BldgType', 5),\n",
       " ('ExterCond', 5),\n",
       " ('HeatingQC', 5),\n",
       " ('Condition2', 6),\n",
       " ('RoofStyle', 6),\n",
       " ('Foundation', 6),\n",
       " ('Heating', 6),\n",
       " ('Functional', 6),\n",
       " ('SaleCondition', 6),\n",
       " ('RoofMatl', 7),\n",
       " ('HouseStyle', 8),\n",
       " ('Condition1', 9),\n",
       " ('SaleType', 9),\n",
       " ('Exterior1st', 15),\n",
       " ('Exterior2nd', 16),\n",
       " ('Neighborhood', 25)]"
      ]
     },
     "execution_count": 18,
     "metadata": {},
     "output_type": "execute_result"
    }
   ],
   "source": [
    "# Get number of unique entries in each column with categorical data\n",
    "object_nunique = list(map(lambda col: X_train[col].nunique(), object_cols))\n",
    "d = dict(zip(object_cols, object_nunique))\n",
    "\n",
    "# Print number of unique entries by column, in ascending order\n",
    "sorted(d.items(), key=lambda x: x[1])"
   ]
  },
  {
   "cell_type": "markdown",
   "id": "91b814af",
   "metadata": {
    "papermill": {
     "duration": 0.018479,
     "end_time": "2023-07-05T08:45:18.805621",
     "exception": false,
     "start_time": "2023-07-05T08:45:18.787142",
     "status": "completed"
    },
    "tags": []
   },
   "source": [
    "The code you provided calculates the number of unique entries in each column that contains categorical data. Here's how it works:\n",
    "- Calculating unique entries: The line object_nunique = list(map(lambda col: X_train[col].nunique(), object_cols)) calculates the number of unique entries for each column in the object_cols list. It uses the map() function and a lambda function to apply the nunique() method to each column col in object_cols. The nunique() method returns the number of unique values in a column.\n",
    "\n",
    "- Creating a dictionary: The line d = dict(zip(object_cols, object_nunique)) creates a dictionary d by zipping the object_cols list (column names) with the object_nunique list (number of unique entries for each column). This creates key-value pairs in the dictionary, where the column names are the keys and the number of unique entries are the values.\n",
    "\n",
    "- Sorting the dictionary: The line sorted(d.items(), key=lambda x: x[1]) sorts the dictionary d based on the values (number of unique entries) in ascending order. It uses the sorted() function and the items() method of the dictionary to obtain a list of tuples, where each tuple contains a column name and its corresponding number of unique entries. The key=lambda x: x[1] specifies that the sorting should be based on the second element of each tuple (i.e., the number of unique entries).\n",
    "\n",
    "- Printing the sorted list: Finally, the sorted list of tuples is printed. This list shows the number of unique entries for each column with categorical data, arranged in ascending order. Each tuple consists of a column name and the corresponding number of unique entries.\n",
    "\n",
    "\n",
    "In summary, this code calculates and displays the number of unique entries in each column that contains categorical data. It provides insights into the cardinality (number of distinct categories) of each categorical variable. The output helps to understand the variability and diversity within the categorical columns, which can be useful for further analysis and encoding strategies."
   ]
  },
  {
   "cell_type": "markdown",
   "id": "f5b8193d",
   "metadata": {
    "papermill": {
     "duration": 0.020225,
     "end_time": "2023-07-05T08:45:18.846120",
     "exception": false,
     "start_time": "2023-07-05T08:45:18.825895",
     "status": "completed"
    },
    "tags": []
   },
   "source": [
    "# Step 3: Investigating cardinality\n",
    "\n",
    "### Part A\n",
    "\n",
    "The output above shows, for each column with categorical data, the number of unique values in the column.  For instance, the `'Street'` column in the training data has two unique values: `'Grvl'` and `'Pave'`, corresponding to a gravel road and a paved road, respectively.\n",
    "\n",
    "We refer to the number of unique entries of a categorical variable as the **cardinality** of that categorical variable.  For instance, the `'Street'` variable has cardinality 2.\n",
    "\n",
    "Use the output above to answer the questions below."
   ]
  },
  {
   "cell_type": "code",
   "execution_count": 19,
   "id": "4e3de3c8",
   "metadata": {
    "execution": {
     "iopub.execute_input": "2023-07-05T08:45:18.889240Z",
     "iopub.status.busy": "2023-07-05T08:45:18.887644Z",
     "iopub.status.idle": "2023-07-05T08:45:18.899044Z",
     "shell.execute_reply": "2023-07-05T08:45:18.897832Z"
    },
    "papermill": {
     "duration": 0.035289,
     "end_time": "2023-07-05T08:45:18.901612",
     "exception": false,
     "start_time": "2023-07-05T08:45:18.866323",
     "status": "completed"
    },
    "tags": []
   },
   "outputs": [
    {
     "data": {
      "application/javascript": [
       "parent.postMessage({\"jupyterEvent\": \"custom.exercise_interaction\", \"data\": {\"outcomeType\": 1, \"valueTowardsCompletion\": 0.5, \"interactionType\": 1, \"questionType\": 1, \"questionId\": \"3.1_CardinalityA\", \"learnToolsVersion\": \"0.3.4\", \"failureMessage\": \"\", \"exceptionClass\": \"\", \"trace\": \"\"}}, \"*\")"
      ],
      "text/plain": [
       "<IPython.core.display.Javascript object>"
      ]
     },
     "metadata": {},
     "output_type": "display_data"
    },
    {
     "data": {
      "text/markdown": [
       "<span style=\"color:#33cc33\">Correct</span>"
      ],
      "text/plain": [
       "Correct"
      ]
     },
     "metadata": {},
     "output_type": "display_data"
    }
   ],
   "source": [
    "# Fill in the line below: How many categorical variables in the training data\n",
    "# have cardinality greater than 10?\n",
    "high_cardinality_numcols = 3\n",
    "\n",
    "# Fill in the line below: How many columns are needed to one-hot encode the \n",
    "# 'Neighborhood' variable in the training data?\n",
    "num_cols_neighborhood = 25\n",
    "\n",
    "# Check your answers\n",
    "step_3.a.check()"
   ]
  },
  {
   "cell_type": "code",
   "execution_count": 20,
   "id": "acdfe77c",
   "metadata": {
    "execution": {
     "iopub.execute_input": "2023-07-05T08:45:18.943259Z",
     "iopub.status.busy": "2023-07-05T08:45:18.942774Z",
     "iopub.status.idle": "2023-07-05T08:45:18.953505Z",
     "shell.execute_reply": "2023-07-05T08:45:18.952308Z"
    },
    "papermill": {
     "duration": 0.034974,
     "end_time": "2023-07-05T08:45:18.956082",
     "exception": false,
     "start_time": "2023-07-05T08:45:18.921108",
     "status": "completed"
    },
    "tags": []
   },
   "outputs": [
    {
     "data": {
      "application/javascript": [
       "parent.postMessage({\"jupyterEvent\": \"custom.exercise_interaction\", \"data\": {\"interactionType\": 2, \"questionType\": 1, \"questionId\": \"3.1_CardinalityA\", \"learnToolsVersion\": \"0.3.4\", \"valueTowardsCompletion\": 0.0, \"failureMessage\": \"\", \"exceptionClass\": \"\", \"trace\": \"\", \"outcomeType\": 4}}, \"*\")"
      ],
      "text/plain": [
       "<IPython.core.display.Javascript object>"
      ]
     },
     "metadata": {},
     "output_type": "display_data"
    },
    {
     "data": {
      "text/markdown": [
       "<span style=\"color:#3366cc\">Hint:</span> To one-hot encode a variable, we need one column for each unique entry."
      ],
      "text/plain": [
       "Hint: To one-hot encode a variable, we need one column for each unique entry."
      ]
     },
     "metadata": {},
     "output_type": "display_data"
    }
   ],
   "source": [
    "# Lines below will give you a hint or solution code\n",
    "step_3.a.hint()\n",
    "#step_3.a.solution()"
   ]
  },
  {
   "cell_type": "markdown",
   "id": "d3847cd3",
   "metadata": {
    "papermill": {
     "duration": 0.019085,
     "end_time": "2023-07-05T08:45:18.994733",
     "exception": false,
     "start_time": "2023-07-05T08:45:18.975648",
     "status": "completed"
    },
    "tags": []
   },
   "source": [
    "### Part B\n",
    "\n",
    "For large datasets with many rows, one-hot encoding can greatly expand the size of the dataset.  For this reason, we typically will only one-hot encode columns with relatively low cardinality.  Then, high cardinality columns can either be dropped from the dataset, or we can use ordinal encoding.\n",
    "\n",
    "As an example, consider a dataset with 10,000 rows, and containing one categorical column with 100 unique entries.  \n",
    "- If this column is replaced with the corresponding one-hot encoding, how many entries are added to the dataset?  \n",
    "- If we instead replace the column with the ordinal encoding, how many entries are added?  \n",
    "\n",
    "Use your answers to fill in the lines below."
   ]
  },
  {
   "cell_type": "code",
   "execution_count": 21,
   "id": "17be1732",
   "metadata": {
    "execution": {
     "iopub.execute_input": "2023-07-05T08:45:19.036052Z",
     "iopub.status.busy": "2023-07-05T08:45:19.035624Z",
     "iopub.status.idle": "2023-07-05T08:45:19.046074Z",
     "shell.execute_reply": "2023-07-05T08:45:19.044960Z"
    },
    "papermill": {
     "duration": 0.033698,
     "end_time": "2023-07-05T08:45:19.048538",
     "exception": false,
     "start_time": "2023-07-05T08:45:19.014840",
     "status": "completed"
    },
    "tags": []
   },
   "outputs": [
    {
     "data": {
      "application/javascript": [
       "parent.postMessage({\"jupyterEvent\": \"custom.exercise_interaction\", \"data\": {\"outcomeType\": 1, \"valueTowardsCompletion\": 0.5, \"interactionType\": 1, \"questionType\": 1, \"questionId\": \"3.2_CardinalityB\", \"learnToolsVersion\": \"0.3.4\", \"failureMessage\": \"\", \"exceptionClass\": \"\", \"trace\": \"\"}}, \"*\")"
      ],
      "text/plain": [
       "<IPython.core.display.Javascript object>"
      ]
     },
     "metadata": {},
     "output_type": "display_data"
    },
    {
     "data": {
      "text/markdown": [
       "<span style=\"color:#33cc33\">Correct</span>"
      ],
      "text/plain": [
       "Correct"
      ]
     },
     "metadata": {},
     "output_type": "display_data"
    }
   ],
   "source": [
    "# Fill in the line below: How many entries are added to the dataset by \n",
    "# replacing the column with a one-hot encoding?\n",
    "OH_entries_added = 10000*100-10000\n",
    "\n",
    "# Fill in the line below: How many entries are added to the dataset by\n",
    "# replacing the column with an ordinal encoding?\n",
    "label_entries_added = 0\n",
    "\n",
    "# Check your answers\n",
    "step_3.b.check()"
   ]
  },
  {
   "cell_type": "markdown",
   "id": "3fec1cb9",
   "metadata": {
    "papermill": {
     "duration": 0.020702,
     "end_time": "2023-07-05T08:45:19.089960",
     "exception": false,
     "start_time": "2023-07-05T08:45:19.069258",
     "status": "completed"
    },
    "tags": []
   },
   "source": [
    "The reason why the result for label_entries_added is 0 is because ordinal encoding does not add any additional entries to the dataset. Unlike one-hot encoding, where each unique category is represented as a separate binary column, ordinal encoding replaces the categorical column with a single column of integer-encoded values. Therefore, there is no increase in the number of entries when using ordinal encoding."
   ]
  },
  {
   "cell_type": "code",
   "execution_count": 22,
   "id": "19bdb503",
   "metadata": {
    "execution": {
     "iopub.execute_input": "2023-07-05T08:45:19.132475Z",
     "iopub.status.busy": "2023-07-05T08:45:19.131207Z",
     "iopub.status.idle": "2023-07-05T08:45:19.146493Z",
     "shell.execute_reply": "2023-07-05T08:45:19.145125Z"
    },
    "papermill": {
     "duration": 0.039218,
     "end_time": "2023-07-05T08:45:19.148990",
     "exception": false,
     "start_time": "2023-07-05T08:45:19.109772",
     "status": "completed"
    },
    "tags": []
   },
   "outputs": [
    {
     "data": {
      "application/javascript": [
       "parent.postMessage({\"jupyterEvent\": \"custom.exercise_interaction\", \"data\": {\"interactionType\": 2, \"questionType\": 1, \"questionId\": \"3.2_CardinalityB\", \"learnToolsVersion\": \"0.3.4\", \"valueTowardsCompletion\": 0.0, \"failureMessage\": \"\", \"exceptionClass\": \"\", \"trace\": \"\", \"outcomeType\": 4}}, \"*\")"
      ],
      "text/plain": [
       "<IPython.core.display.Javascript object>"
      ]
     },
     "metadata": {},
     "output_type": "display_data"
    },
    {
     "data": {
      "text/markdown": [
       "<span style=\"color:#3366cc\">Hint:</span> To calculate how many entries are added to the dataset through the one-hot encoding, begin by calculating how many entries are needed to encode the categorical variable (by multiplying the number of rows by the number of columns in the one-hot encoding). Then, to obtain how many entries are **added** to the dataset, subtract the number of entries in the original column."
      ],
      "text/plain": [
       "Hint: To calculate how many entries are added to the dataset through the one-hot encoding, begin by calculating how many entries are needed to encode the categorical variable (by multiplying the number of rows by the number of columns in the one-hot encoding). Then, to obtain how many entries are **added** to the dataset, subtract the number of entries in the original column."
      ]
     },
     "metadata": {},
     "output_type": "display_data"
    },
    {
     "data": {
      "application/javascript": [
       "parent.postMessage({\"jupyterEvent\": \"custom.exercise_interaction\", \"data\": {\"interactionType\": 3, \"questionType\": 1, \"questionId\": \"3.2_CardinalityB\", \"learnToolsVersion\": \"0.3.4\", \"valueTowardsCompletion\": 0.0, \"failureMessage\": \"\", \"exceptionClass\": \"\", \"trace\": \"\", \"outcomeType\": 4}}, \"*\")"
      ],
      "text/plain": [
       "<IPython.core.display.Javascript object>"
      ]
     },
     "metadata": {},
     "output_type": "display_data"
    },
    {
     "data": {
      "text/markdown": [
       "<span style=\"color:#33cc99\">Solution:</span> \n",
       "```python\n",
       "# How many entries are added to the dataset by\n",
       "# replacing the column with a one-hot encoding?\n",
       "OH_entries_added = 1e4*100 - 1e4\n",
       "\n",
       "# How many entries are added to the dataset by\n",
       "# replacing the column with an ordinal encoding?\n",
       "label_entries_added = 0\n",
       "\n",
       "```"
      ],
      "text/plain": [
       "Solution: \n",
       "```python\n",
       "# How many entries are added to the dataset by\n",
       "# replacing the column with a one-hot encoding?\n",
       "OH_entries_added = 1e4*100 - 1e4\n",
       "\n",
       "# How many entries are added to the dataset by\n",
       "# replacing the column with an ordinal encoding?\n",
       "label_entries_added = 0\n",
       "\n",
       "```"
      ]
     },
     "metadata": {},
     "output_type": "display_data"
    }
   ],
   "source": [
    "# Lines below will give you a hint or solution code\n",
    "step_3.b.hint()\n",
    "step_3.b.solution()"
   ]
  },
  {
   "cell_type": "markdown",
   "id": "447b7cb9",
   "metadata": {
    "papermill": {
     "duration": 0.020669,
     "end_time": "2023-07-05T08:45:19.191002",
     "exception": false,
     "start_time": "2023-07-05T08:45:19.170333",
     "status": "completed"
    },
    "tags": []
   },
   "source": [
    "Next, you'll experiment with one-hot encoding.  But, instead of encoding all of the categorical variables in the dataset, you'll only create a one-hot encoding for columns with cardinality less than 10.\n",
    "\n",
    "Run the code cell below without changes to set `low_cardinality_cols` to a Python list containing the columns that will be one-hot encoded.  Likewise, `high_cardinality_cols` contains a list of categorical columns that will be dropped from the dataset."
   ]
  },
  {
   "cell_type": "code",
   "execution_count": 23,
   "id": "c72a690f",
   "metadata": {
    "execution": {
     "iopub.execute_input": "2023-07-05T08:45:19.233383Z",
     "iopub.status.busy": "2023-07-05T08:45:19.232959Z",
     "iopub.status.idle": "2023-07-05T08:45:19.245943Z",
     "shell.execute_reply": "2023-07-05T08:45:19.244878Z"
    },
    "papermill": {
     "duration": 0.036614,
     "end_time": "2023-07-05T08:45:19.248175",
     "exception": false,
     "start_time": "2023-07-05T08:45:19.211561",
     "status": "completed"
    },
    "tags": []
   },
   "outputs": [
    {
     "name": "stdout",
     "output_type": "stream",
     "text": [
      "Categorical columns that will be one-hot encoded: ['MSZoning', 'Street', 'LotShape', 'LandContour', 'Utilities', 'LotConfig', 'LandSlope', 'Condition1', 'Condition2', 'BldgType', 'HouseStyle', 'RoofStyle', 'RoofMatl', 'ExterQual', 'ExterCond', 'Foundation', 'Heating', 'HeatingQC', 'CentralAir', 'KitchenQual', 'Functional', 'PavedDrive', 'SaleType', 'SaleCondition']\n",
      "\n",
      "Categorical columns that will be dropped from the dataset: ['Exterior1st', 'Exterior2nd', 'Neighborhood']\n"
     ]
    }
   ],
   "source": [
    "# Columns that will be one-hot encoded\n",
    "low_cardinality_cols = [col for col in object_cols if X_train[col].nunique() < 10]\n",
    "\n",
    "# Columns that will be dropped from the dataset\n",
    "high_cardinality_cols = list(set(object_cols)-set(low_cardinality_cols))\n",
    "\n",
    "print('Categorical columns that will be one-hot encoded:', low_cardinality_cols)\n",
    "print('\\nCategorical columns that will be dropped from the dataset:', high_cardinality_cols)"
   ]
  },
  {
   "cell_type": "markdown",
   "id": "bb43abd9",
   "metadata": {
    "papermill": {
     "duration": 0.020054,
     "end_time": "2023-07-05T08:45:19.288664",
     "exception": false,
     "start_time": "2023-07-05T08:45:19.268610",
     "status": "completed"
    },
    "tags": []
   },
   "source": [
    "### Score from Approach 3 (One-Hot Encoding)\n",
    "We use the OneHotEncoder class from scikit-learn to get one-hot encodings. There are a number of parameters that can be used to customize its behavior.\n",
    "\n",
    "- We set handle_unknown='ignore' to avoid errors when the validation data contains classes that aren't represented in the training data, and\n",
    "- setting sparse=False ensures that the encoded columns are returned as a numpy array (instead of a sparse matrix).\n",
    "\n",
    "To use the encoder, we supply only the categorical columns that we want to be one-hot encoded. For instance, to encode the training data, we supply X_train[object_cols]. (object_cols in the code cell below is a list of the column names with categorical data, and so X_train[object_cols] contains all of the categorical data in the training set.)"
   ]
  },
  {
   "cell_type": "markdown",
   "id": "d6901126",
   "metadata": {
    "papermill": {
     "duration": 0.020184,
     "end_time": "2023-07-05T08:45:19.329254",
     "exception": false,
     "start_time": "2023-07-05T08:45:19.309070",
     "status": "completed"
    },
    "tags": []
   },
   "source": [
    "# Step 4: One-hot encoding\n",
    "\n",
    "Use the next code cell to one-hot encode the data in `X_train` and `X_valid`.  Set the preprocessed DataFrames to `OH_X_train` and `OH_X_valid`, respectively.  \n",
    "- The full list of categorical columns in the dataset can be found in the Python list `object_cols`.\n",
    "- You should only one-hot encode the categorical columns in `low_cardinality_cols`.  All other categorical columns should be dropped from the dataset. "
   ]
  },
  {
   "cell_type": "code",
   "execution_count": 24,
   "id": "ff811efd",
   "metadata": {
    "execution": {
     "iopub.execute_input": "2023-07-05T08:45:19.373350Z",
     "iopub.status.busy": "2023-07-05T08:45:19.372901Z",
     "iopub.status.idle": "2023-07-05T08:45:19.433749Z",
     "shell.execute_reply": "2023-07-05T08:45:19.432626Z"
    },
    "papermill": {
     "duration": 0.085331,
     "end_time": "2023-07-05T08:45:19.436062",
     "exception": false,
     "start_time": "2023-07-05T08:45:19.350731",
     "status": "completed"
    },
    "tags": []
   },
   "outputs": [
    {
     "name": "stderr",
     "output_type": "stream",
     "text": [
      "/opt/conda/lib/python3.10/site-packages/sklearn/preprocessing/_encoders.py:868: FutureWarning: `sparse` was renamed to `sparse_output` in version 1.2 and will be removed in 1.4. `sparse_output` is ignored unless you leave `sparse` to its default value.\n",
      "  warnings.warn(\n"
     ]
    },
    {
     "data": {
      "application/javascript": [
       "parent.postMessage({\"jupyterEvent\": \"custom.exercise_interaction\", \"data\": {\"outcomeType\": 1, \"valueTowardsCompletion\": 0.5, \"interactionType\": 1, \"questionType\": 2, \"questionId\": \"4_OneHot\", \"learnToolsVersion\": \"0.3.4\", \"failureMessage\": \"\", \"exceptionClass\": \"\", \"trace\": \"\"}}, \"*\")"
      ],
      "text/plain": [
       "<IPython.core.display.Javascript object>"
      ]
     },
     "metadata": {},
     "output_type": "display_data"
    },
    {
     "data": {
      "text/markdown": [
       "<span style=\"color:#33cc33\">Correct</span>"
      ],
      "text/plain": [
       "Correct"
      ]
     },
     "metadata": {},
     "output_type": "display_data"
    }
   ],
   "source": [
    "from sklearn.preprocessing import OneHotEncoder\n",
    "\n",
    "# Apply one-hot encoder to each column with categorical data\n",
    "OH_encoder = OneHotEncoder(handle_unknown='ignore', sparse=False)\n",
    "OH_cols_train = pd.DataFrame(OH_encoder.fit_transform(X_train[low_cardinality_cols]))\n",
    "OH_cols_valid = pd.DataFrame(OH_encoder.transform(X_valid[low_cardinality_cols]))\n",
    "\n",
    "# One-hot encoding removed index; put it back\n",
    "OH_cols_train.index = X_train.index\n",
    "OH_cols_valid.index = X_valid.index\n",
    "\n",
    "# Remove categorical columns (will replace with one-hot encoding)\n",
    "num_X_train = X_train.drop(object_cols, axis=1)\n",
    "num_X_valid = X_valid.drop(object_cols, axis=1)\n",
    "\n",
    "# Add one-hot encoded columns to numerical features\n",
    "OH_X_train = pd.concat([num_X_train, OH_cols_train], axis=1)\n",
    "OH_X_valid = pd.concat([num_X_valid, OH_cols_valid], axis=1)\n",
    "\n",
    "# Ensure all columns have string type\n",
    "OH_X_train.columns = OH_X_train.columns.astype(str)\n",
    "OH_X_valid.columns = OH_X_valid.columns.astype(str)\n",
    "\n",
    "\n",
    "# Check your answer\n",
    "step_4.check()"
   ]
  },
  {
   "cell_type": "code",
   "execution_count": 25,
   "id": "eba09807",
   "metadata": {
    "execution": {
     "iopub.execute_input": "2023-07-05T08:45:19.482251Z",
     "iopub.status.busy": "2023-07-05T08:45:19.481772Z",
     "iopub.status.idle": "2023-07-05T08:45:19.490986Z",
     "shell.execute_reply": "2023-07-05T08:45:19.489891Z"
    },
    "papermill": {
     "duration": 0.035577,
     "end_time": "2023-07-05T08:45:19.493348",
     "exception": false,
     "start_time": "2023-07-05T08:45:19.457771",
     "status": "completed"
    },
    "tags": []
   },
   "outputs": [
    {
     "data": {
      "application/javascript": [
       "parent.postMessage({\"jupyterEvent\": \"custom.exercise_interaction\", \"data\": {\"interactionType\": 2, \"questionType\": 2, \"questionId\": \"4_OneHot\", \"learnToolsVersion\": \"0.3.4\", \"valueTowardsCompletion\": 0.0, \"failureMessage\": \"\", \"exceptionClass\": \"\", \"trace\": \"\", \"outcomeType\": 4}}, \"*\")"
      ],
      "text/plain": [
       "<IPython.core.display.Javascript object>"
      ]
     },
     "metadata": {},
     "output_type": "display_data"
    },
    {
     "data": {
      "text/markdown": [
       "<span style=\"color:#3366cc\">Hint:</span> Begin by applying the one-hot encoder to the low cardinality columns in the training and validation data in `X_train[low_cardinality_cols]` and `X_valid[low_cardinality_cols]`, respectively."
      ],
      "text/plain": [
       "Hint: Begin by applying the one-hot encoder to the low cardinality columns in the training and validation data in `X_train[low_cardinality_cols]` and `X_valid[low_cardinality_cols]`, respectively."
      ]
     },
     "metadata": {},
     "output_type": "display_data"
    }
   ],
   "source": [
    "# Lines below will give you a hint or solution code\n",
    "step_4.hint()\n",
    "#step_4.solution()"
   ]
  },
  {
   "cell_type": "markdown",
   "id": "8b304594",
   "metadata": {
    "papermill": {
     "duration": 0.021261,
     "end_time": "2023-07-05T08:45:19.535933",
     "exception": false,
     "start_time": "2023-07-05T08:45:19.514672",
     "status": "completed"
    },
    "tags": []
   },
   "source": [
    "Run the next code cell to get the MAE for this approach."
   ]
  },
  {
   "cell_type": "code",
   "execution_count": 26,
   "id": "ff212f7a",
   "metadata": {
    "execution": {
     "iopub.execute_input": "2023-07-05T08:45:19.582071Z",
     "iopub.status.busy": "2023-07-05T08:45:19.581632Z",
     "iopub.status.idle": "2023-07-05T08:45:21.694225Z",
     "shell.execute_reply": "2023-07-05T08:45:21.693022Z"
    },
    "papermill": {
     "duration": 2.139955,
     "end_time": "2023-07-05T08:45:21.697254",
     "exception": false,
     "start_time": "2023-07-05T08:45:19.557299",
     "status": "completed"
    },
    "tags": []
   },
   "outputs": [
    {
     "name": "stdout",
     "output_type": "stream",
     "text": [
      "MAE from Approach 3 (One-Hot Encoding):\n",
      "17525.345719178084\n"
     ]
    }
   ],
   "source": [
    "print(\"MAE from Approach 3 (One-Hot Encoding):\") \n",
    "print(score_dataset(OH_X_train, OH_X_valid, y_train, y_valid))"
   ]
  },
  {
   "cell_type": "code",
   "execution_count": 27,
   "id": "059a18bd",
   "metadata": {
    "execution": {
     "iopub.execute_input": "2023-07-05T08:45:21.743246Z",
     "iopub.status.busy": "2023-07-05T08:45:21.742848Z",
     "iopub.status.idle": "2023-07-05T08:45:21.747167Z",
     "shell.execute_reply": "2023-07-05T08:45:21.746003Z"
    },
    "papermill": {
     "duration": 0.030063,
     "end_time": "2023-07-05T08:45:21.749377",
     "exception": false,
     "start_time": "2023-07-05T08:45:21.719314",
     "status": "completed"
    },
    "tags": []
   },
   "outputs": [],
   "source": [
    "# (Optional) Your code here"
   ]
  }
 ],
 "metadata": {
  "kernelspec": {
   "display_name": "Python 3",
   "language": "python",
   "name": "python3"
  },
  "language_info": {
   "codemirror_mode": {
    "name": "ipython",
    "version": 3
   },
   "file_extension": ".py",
   "mimetype": "text/x-python",
   "name": "python",
   "nbconvert_exporter": "python",
   "pygments_lexer": "ipython3",
   "version": "3.10.10"
  },
  "papermill": {
   "default_parameters": {},
   "duration": 24.18548,
   "end_time": "2023-07-05T08:45:22.793606",
   "environment_variables": {},
   "exception": null,
   "input_path": "__notebook__.ipynb",
   "output_path": "__notebook__.ipynb",
   "parameters": {},
   "start_time": "2023-07-05T08:44:58.608126",
   "version": "2.4.0"
  }
 },
 "nbformat": 4,
 "nbformat_minor": 5
}
